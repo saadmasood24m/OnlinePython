{
 "cells": [
  {
   "cell_type": "markdown",
   "metadata": {},
   "source": [
    "Q1: Use a dictionary to store information about a person you know. Store their first name, last name, age, and the city\n",
    "in which they live. You should have keys such as first_name, last_name, age, and city.\n",
    "Print each piece of information stored in your dictionary.\n",
    "Add a new key value pair about qualification then update the qualification value to high academic level then delete it."
   ]
  },
  {
   "cell_type": "code",
   "execution_count": 1,
   "metadata": {},
   "outputs": [
    {
     "data": {
      "text/plain": [
       "{'fname': 'Saad', 'lname': 'Masood', 'age': 28, 'city': 'karachi'}"
      ]
     },
     "execution_count": 1,
     "metadata": {},
     "output_type": "execute_result"
    }
   ],
   "source": [
    "info = {\n",
    "'fname': 'Saad',\n",
    "'lname': 'Masood',\n",
    "'age': 28,\n",
    "'city': 'karachi'\n",
    "\n",
    "}\n",
    "info['lname'].upper()\n",
    "info['Qualification']='HighSchool'\n",
    "del info['Qualification']\n",
    "info"
   ]
  },
  {
   "cell_type": "markdown",
   "metadata": {},
   "source": [
    "Q2: Make a dictionary called cities. Use the names of three cities as keys in your dictionary. \n",
    "    Create a dictionary of information about each city and include the country that the city is in, \n",
    "    its approximate population, and one fact about that city.\n",
    "    The keys for each city’s dictionary should be something like country, population, and fact.\n",
    "    Print the name of each city and all of the information you have stored about it"
   ]
  },
  {
   "cell_type": "code",
   "execution_count": 2,
   "metadata": {},
   "outputs": [
    {
     "name": "stdout",
     "output_type": "stream",
     "text": [
      "\n",
      "Karachi is in Pakistan.\n",
      "  It has a population of about 62cr.\n",
      "  The Sindh River place are nearby.\n",
      "\n",
      "Lahore is in Pakistan.\n",
      "  It has a population of about 1.2cr.\n",
      "  The Minaar-E-Pakistan place are nearby.\n",
      "\n",
      "Makkah is in Saudiaaribia.\n",
      "  It has a population of about 1.5cr.\n",
      "  The Khan-E-Kaaba place are nearby.\n"
     ]
    }
   ],
   "source": [
    "cities = {\n",
    "    'Karachi': {\n",
    "        'country': 'Pakistan',\n",
    "        'population': '62cr',\n",
    "        'nearby': 'Sindh River',\n",
    "        },\n",
    "    'Lahore': {\n",
    "        'country': 'Pakistan',\n",
    "        'population': '1.2cr',\n",
    "        'nearby': 'minaar-e-pakistan',\n",
    "        },\n",
    "    'Makkah': {\n",
    "        'country': 'SaudiaAribia',\n",
    "        'population': '1.5cr',\n",
    "        'nearby': 'Khan-e-Kaaba',\n",
    "        }\n",
    "    }\n",
    "\n",
    "for city, city_info in cities.items():\n",
    "    country = city_info['country'].title()\n",
    "    population = city_info['population']\n",
    "    Famous = city_info['nearby'].title()\n",
    "\n",
    "    print(\"\\n\" + city.title() + \" is in \" + country + \".\")\n",
    "    print(\"  It has a population of about \" + str(population) + \".\")\n",
    "    print(\"  The \" + Famous  + \" place are nearby.\")"
   ]
  },
  {
   "cell_type": "markdown",
   "metadata": {},
   "source": [
    "Q3: A movie theater charges different ticket prices depending on a person’s age.\n",
    "    If a person is under the age of 3, the ticket is free; if they are between 3 and 12, the ticket is $10; and if \n",
    "    they are over age 12, the ticket is $15. Write a loop in which you ask users their age, \n",
    "    and then tell them the cost of their movie ticket."
   ]
  },
  {
   "cell_type": "code",
   "execution_count": null,
   "metadata": {},
   "outputs": [],
   "source": [
    "dummy = \"How old are you?\"\n",
    "dummy += \"\\nEnter 'quit' when you are finished. \"\n",
    "\n",
    "while True:\n",
    "    age = input(dummy)\n",
    "    if age == 'quit':\n",
    "        break\n",
    "    age = int(age)\n",
    "\n",
    "    if age < 3:\n",
    "        print(\"  You get in free!\")\n",
    "    elif age < 13:\n",
    "        print(\"  Your ticket is $10.\")\n",
    "    else:\n",
    "        print(\"  Your ticket is $15.\")\n"
   ]
  },
  {
   "cell_type": "markdown",
   "metadata": {},
   "source": [
    "Q4: Write a function called favorite_book() that accepts one parameter, title.\n",
    "    The function should print a message, such as One of my favorite books is Alice in Wonderland.\n",
    "    Call the function, making sure to include a book title as an argument in the function call."
   ]
  },
  {
   "cell_type": "code",
   "execution_count": null,
   "metadata": {},
   "outputs": [],
   "source": [
    "def favorite_book(title):\n",
    "    print(title + \" is one of my favorite books.\")\n",
    "\n",
    "favorite_book('The Smart Way to Learn Python')"
   ]
  },
  {
   "cell_type": "code",
   "execution_count": null,
   "metadata": {},
   "outputs": [],
   "source": [
    "Q5: Guess the number game\n",
    "Write a program which randomly generate a number between 1 to 30 and ask the user in input field to guess the correct number. \n",
    "Give three chances to user guess the number and also give hint to user if hidden number is greater or smaller than \n",
    "the number he given to input field.\n"
   ]
  },
  {
   "cell_type": "code",
   "execution_count": null,
   "metadata": {},
   "outputs": [],
   "source": [
    "\n",
    "\n",
    "import random\n",
    "guessesTaken = 0\n",
    "print('Hello! What is your name?')\n",
    "myName = input()\n",
    "number = random.randint(1, 30)\n",
    "print('Well, ' + myName + ', I am thinking of a number between 1 and 30.')\n",
    "while guessesTaken <3:\n",
    "    print('Take a guess.') # There are four spaces in front of print.\n",
    "    guess = input()\n",
    "    guess = int(guess)\n",
    "    guessesTaken = guessesTaken + 1\n",
    "    if guess < number:\n",
    "        print('Your guess is too low.') # There are eight spaces in front of print.\n",
    "        if guess > number:\n",
    "            print('Your guess is too high.')\n",
    "            if guess == number:\n",
    "                break\n",
    "                if guess == number:\n",
    "                    guessesTaken = str(guessesTaken)\n",
    "                    print('Good job, ' + myName + '! You guessed my number in ' + guessesTaken + ' guesses!')\n",
    "                    if guess != number:\n",
    "                        number = str(number)\n",
    "                        print('Nope. The number I was thinking of was ' + number)"
   ]
  },
  {
   "cell_type": "code",
   "execution_count": null,
   "metadata": {},
   "outputs": [],
   "source": []
  },
  {
   "cell_type": "code",
   "execution_count": null,
   "metadata": {},
   "outputs": [],
   "source": []
  }
 ],
 "metadata": {
  "kernelspec": {
   "display_name": "Python 3",
   "language": "python",
   "name": "python3"
  },
  "language_info": {
   "codemirror_mode": {
    "name": "ipython",
    "version": 3
   },
   "file_extension": ".py",
   "mimetype": "text/x-python",
   "name": "python",
   "nbconvert_exporter": "python",
   "pygments_lexer": "ipython3",
   "version": "3.7.3"
  }
 },
 "nbformat": 4,
 "nbformat_minor": 2
}
